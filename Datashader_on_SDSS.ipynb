{
 "cells": [
  {
   "cell_type": "markdown",
   "metadata": {},
   "source": [
    "## how to plot millions of points?"
   ]
  },
  {
   "cell_type": "code",
   "execution_count": null,
   "metadata": {
    "collapsed": true
   },
   "outputs": [],
   "source": [
    "import datashader as ds\n",
    "import datashader.transfer_functions as tf\n",
    "import dask.dataframe as dd\n",
    "import numpy as np\n",
    "from astroML.plotting import scatter_contour"
   ]
  },
  {
   "cell_type": "code",
   "execution_count": null,
   "metadata": {
    "collapsed": true
   },
   "outputs": [],
   "source": [
    "### data input for 5 million Sloan objects"
   ]
  },
  {
   "cell_type": "code",
   "execution_count": null,
   "metadata": {
    "collapsed": true
   },
   "outputs": [],
   "source": [
    "from astropy.table import Table"
   ]
  },
  {
   "cell_type": "code",
   "execution_count": null,
   "metadata": {
    "collapsed": true
   },
   "outputs": [],
   "source": [
    "sdss = Table.read('data/sdss_5M_gmr_rmi.fits').to_pandas()"
   ]
  },
  {
   "cell_type": "code",
   "execution_count": null,
   "metadata": {
    "collapsed": false
   },
   "outputs": [],
   "source": [
    "sdss.head()"
   ]
  },
  {
   "cell_type": "code",
   "execution_count": null,
   "metadata": {
    "collapsed": false
   },
   "outputs": [],
   "source": [
    "len(sdss)"
   ]
  },
  {
   "cell_type": "code",
   "execution_count": null,
   "metadata": {
    "collapsed": false
   },
   "outputs": [],
   "source": [
    "sdss = sdss[(np.abs(sdss['g_minus_r']) < 5) & (np.abs(sdss['r_minus_i']) < 5)]"
   ]
  },
  {
   "cell_type": "markdown",
   "metadata": {},
   "source": [
    "# scatter contour from astroML"
   ]
  },
  {
   "cell_type": "code",
   "execution_count": null,
   "metadata": {
    "collapsed": true
   },
   "outputs": [],
   "source": [
    "from astroML.plotting import scatter_contour\n",
    "import matplotlib.pyplot as plt"
   ]
  },
  {
   "cell_type": "code",
   "execution_count": null,
   "metadata": {
    "collapsed": true
   },
   "outputs": [],
   "source": [
    "#scatter_contour?"
   ]
  },
  {
   "cell_type": "code",
   "execution_count": null,
   "metadata": {
    "collapsed": false
   },
   "outputs": [],
   "source": [
    "#------------------------------------------------------------\n",
    "# plot the results\n",
    "%matplotlib inline\n",
    "#fig, ax = plt.subplots(figsize=(5, 3.75))\n",
    "fig, ax = plt.subplots(figsize=(10, 7.5))\n",
    "scatter_contour(sdss['g_minus_r'], sdss['r_minus_i'], threshold=200, log_counts=True, ax=ax,\n",
    "                histogram2d_args=dict(bins=100),\n",
    "                plot_args=dict(marker=',', linestyle='none', color='black'),\n",
    "                contour_args=dict(cmap=plt.cm.bone))\n",
    "\n",
    "ax.set_xlabel(r'${\\rm g - r}$')\n",
    "ax.set_ylabel(r'${\\rm r - i}$')\n",
    "\n",
    "ax.set_xlim(-0.6, 3.0)\n",
    "ax.set_ylim(-0.6, 2.5)\n",
    "\n",
    "plt.show()"
   ]
  },
  {
   "cell_type": "markdown",
   "metadata": {},
   "source": [
    "## A nicer-looking example"
   ]
  },
  {
   "cell_type": "code",
   "execution_count": null,
   "metadata": {
    "collapsed": true
   },
   "outputs": [],
   "source": [
    "# Author: Jake VanderPlas\n",
    "# License: BSD\n",
    "#   The figure produced by this code is published in the textbook\n",
    "#   \"Statistics, Data Mining, and Machine Learning in Astronomy\" (2013)\n",
    "#   For more information, see http://astroML.github.com\n",
    "#   To report a bug or issue, use the following forum:\n",
    "#    https://groups.google.com/forum/#!forum/astroml-general\n",
    "from matplotlib import pyplot as plt\n",
    "\n",
    "from astroML.plotting import scatter_contour\n",
    "from astroML.datasets import fetch_sdss_S82standards"
   ]
  },
  {
   "cell_type": "code",
   "execution_count": null,
   "metadata": {
    "collapsed": false
   },
   "outputs": [],
   "source": [
    "#----------------------------------------------------------------------\n",
    "# This function adjusts matplotlib settings for a uniform feel in the textbook.\n",
    "# Note that with usetex=True, fonts are rendered with LaTeX.  This may\n",
    "# result in an error if LaTeX is not installed on your system.  In that case,\n",
    "# you can set usetex to False.\n",
    "from astroML.plotting import setup_text_plots\n",
    "setup_text_plots(fontsize=8, usetex=True)\n",
    "\n",
    "#------------------------------------------------------------\n",
    "# Fetch the Stripe 82 standard star catalog\n",
    "\n",
    "data = fetch_sdss_S82standards()\n",
    "\n",
    "g = data['mmu_g']\n",
    "r = data['mmu_r']\n",
    "i = data['mmu_i']"
   ]
  },
  {
   "cell_type": "code",
   "execution_count": null,
   "metadata": {
    "collapsed": false
   },
   "outputs": [],
   "source": [
    "len(data)"
   ]
  },
  {
   "cell_type": "code",
   "execution_count": null,
   "metadata": {
    "collapsed": false
   },
   "outputs": [],
   "source": [
    "#------------------------------------------------------------\n",
    "# plot the results\n",
    "%matplotlib inline\n",
    "#fig, ax = plt.subplots(figsize=(5, 3.75))\n",
    "fig, ax = plt.subplots(figsize=(10, 7.5))\n",
    "scatter_contour(g - r, r - i, threshold=200, log_counts=True, ax=ax,\n",
    "                histogram2d_args=dict(bins=40),\n",
    "                plot_args=dict(marker=',', linestyle='none', color='black'),\n",
    "                contour_args=dict(cmap=plt.cm.bone))\n",
    "\n",
    "ax.set_xlabel(r'${\\rm g - r}$')\n",
    "ax.set_ylabel(r'${\\rm r - i}$')\n",
    "\n",
    "ax.set_xlim(-0.6, 2.5)\n",
    "ax.set_ylim(-0.6, 2.5)\n",
    "\n",
    "plt.show()"
   ]
  },
  {
   "cell_type": "markdown",
   "metadata": {},
   "source": [
    "## experiments with datashader"
   ]
  },
  {
   "cell_type": "code",
   "execution_count": null,
   "metadata": {
    "collapsed": false
   },
   "outputs": [],
   "source": [
    "%%time\n",
    "cvs = ds.Canvas(600, 600, (-1, 3), (-1, 2.5))\n",
    "agg = cvs.points(sdss, 'g_minus_r', 'r_minus_i')"
   ]
  },
  {
   "cell_type": "code",
   "execution_count": null,
   "metadata": {
    "collapsed": false
   },
   "outputs": [],
   "source": [
    "black_background = True\n",
    "\n",
    "#from IPython.core.display import HTML, display\n",
    "#display(HTML(\"<style>.container { width:50% !important; }</style>\"))"
   ]
  },
  {
   "cell_type": "code",
   "execution_count": null,
   "metadata": {
    "collapsed": true
   },
   "outputs": [],
   "source": [
    "def export(img,filename,fmt=\".png\",_return=True):\n",
    "    \"\"\"Given a datashader Image object, saves it to a disk file in the requested format\"\"\"\n",
    "    if black_background: # Optional; removes transparency to force background for exported images \n",
    "        img=tf.set_background(img,\"black\")\n",
    "    img.to_pil().save(filename+fmt)\n",
    "    return img if _return else None\n",
    "\n",
    "def cm(base_colormap, start=0, end=1.0, reverse=not black_background):\n",
    "    \"\"\"\n",
    "    Given a colormap in the form of a list, such as a Bokeh palette,\n",
    "    return a version of the colormap reversed if requested, and selecting\n",
    "    a subset (on a scale 0,1.0) of the elements in the colormap list.\n",
    "    \n",
    "    For instance:\n",
    "    \n",
    "    >>> cmap = [\"#000000\", \"#969696\", \"#d9d9d9\", \"#ffffff\"]\n",
    "    >>> cm(cmap,reverse=True)\n",
    "    ['#ffffff', '#d9d9d9', '#969696', '#000000']\n",
    "    >>> cm(cmap,0.3,reverse=True)\n",
    "    ['#d9d9d9', '#969696', '#000000']\n",
    "    \"\"\"\n",
    "    full = list(reversed(base_colormap)) if reverse else base_colormap\n",
    "    num = len(full)\n",
    "    return full[int(start*num):int(end*num)]\n",
    "\n",
    "from datashader.colors import Greys9, Hot, viridis, inferno"
   ]
  },
  {
   "cell_type": "code",
   "execution_count": null,
   "metadata": {
    "collapsed": false
   },
   "outputs": [],
   "source": [
    "#export(tf.interpolate(agg, cmap=cm(viridis), how='eq_hist'),\"gmr_rmi_eq_hist.png\")"
   ]
  },
  {
   "cell_type": "code",
   "execution_count": null,
   "metadata": {
    "collapsed": true
   },
   "outputs": [],
   "source": [
    "x_range,y_range = ((-1,3), (-1,3))"
   ]
  },
  {
   "cell_type": "code",
   "execution_count": null,
   "metadata": {
    "collapsed": false
   },
   "outputs": [],
   "source": [
    "import bokeh.plotting as bp\n",
    "\n",
    "bp.output_notebook()\n",
    "#bp.output_file('sdss_color_color_datashader.html')\n",
    "\n",
    "def base_plot(tools='pan,wheel_zoom,box_zoom,reset',webgl=False):\n",
    "    p = bp.figure(tools=tools, \n",
    "        plot_width=int(400), plot_height=int(400),\n",
    "        x_range=x_range, y_range=y_range, outline_line_color=None,\n",
    "        min_border=10, min_border_left=10, min_border_right=10,\n",
    "        min_border_top=10, min_border_bottom=10, webgl=webgl)\n",
    "    \n",
    "    p.axis.visible = True\n",
    "    p.xgrid.grid_line_color = 'gray'\n",
    "    p.ygrid.grid_line_color = 'gray'\n",
    "    p.responsive = True\n",
    "    \n",
    "    return p"
   ]
  },
  {
   "cell_type": "code",
   "execution_count": null,
   "metadata": {
    "collapsed": true
   },
   "outputs": [],
   "source": [
    "#InteractiveImage?"
   ]
  },
  {
   "cell_type": "code",
   "execution_count": null,
   "metadata": {
    "collapsed": false
   },
   "outputs": [],
   "source": [
    "from datashader.callbacks import InteractiveImage\n",
    "\n",
    "def image_callback2(x_range, y_range, w, h):\n",
    "    cvs = ds.Canvas(plot_width=w, plot_height=h, x_range=x_range, y_range=y_range)\n",
    "    agg = cvs.points(sdss, 'g_minus_r', 'r_minus_i')\n",
    "    img = tf.interpolate(agg, cmap = list(reversed(Greys9)))\n",
    "    return tf.dynspread(img,threshold=0.75, max_px=12)\n",
    "    #return tf.spread(img, mask=mask, how='over', px=5)\n",
    "    #return tf.spread(img, how='over', px=3)\n",
    "\n",
    "p = base_plot(webgl=False)\n",
    "InteractiveImage(p, image_callback2, throttle=500)\n",
    "\n"
   ]
  },
  {
   "cell_type": "code",
   "execution_count": null,
   "metadata": {
    "collapsed": true
   },
   "outputs": [],
   "source": []
  },
  {
   "cell_type": "code",
   "execution_count": null,
   "metadata": {
    "collapsed": true
   },
   "outputs": [],
   "source": []
  },
  {
   "cell_type": "code",
   "execution_count": null,
   "metadata": {
    "collapsed": true
   },
   "outputs": [],
   "source": []
  }
 ],
 "metadata": {
  "kernelspec": {
   "display_name": "Python 3",
   "language": "python",
   "name": "python3"
  },
  "language_info": {
   "codemirror_mode": {
    "name": "ipython",
    "version": 3
   },
   "file_extension": ".py",
   "mimetype": "text/x-python",
   "name": "python",
   "nbconvert_exporter": "python",
   "pygments_lexer": "ipython3",
   "version": "3.5.1"
  },
  "widgets": {
   "state": {},
   "version": "1.1.1"
  }
 },
 "nbformat": 4,
 "nbformat_minor": 0
}
