{
 "cells": [
  {
   "cell_type": "markdown",
   "metadata": {},
   "source": [
    "## Linking and brushing with bokeh"
   ]
  },
  {
   "cell_type": "markdown",
   "metadata": {},
   "source": [
    "Linking and brushing is a powerful method for exploratory data analysis."
   ]
  },
  {
   "cell_type": "markdown",
   "metadata": {},
   "source": [
    "One way to create linked plots in the notebook is to use Bokeh."
   ]
  },
  {
   "cell_type": "code",
   "execution_count": 1,
   "metadata": {
    "collapsed": true
   },
   "outputs": [],
   "source": [
    "import bokeh"
   ]
  },
  {
   "cell_type": "code",
   "execution_count": 2,
   "metadata": {
    "collapsed": true
   },
   "outputs": [],
   "source": [
    "import numpy as np"
   ]
  },
  {
   "cell_type": "code",
   "execution_count": 3,
   "metadata": {
    "collapsed": true
   },
   "outputs": [],
   "source": [
    "from astropy.table import Table"
   ]
  },
  {
   "cell_type": "code",
   "execution_count": 4,
   "metadata": {
    "collapsed": true
   },
   "outputs": [],
   "source": [
    "sdss = Table.read('data/sdss_galaxies_qsos_50k.fits')"
   ]
  },
  {
   "cell_type": "code",
   "execution_count": 5,
   "metadata": {
    "collapsed": false
   },
   "outputs": [
    {
     "data": {
      "text/html": [
       "&lt;Table length=50000&gt;\n",
       "<table id=\"table4430723728\">\n",
       "<thead><tr><th>ra</th><th>dec</th><th>u</th><th>g</th><th>r</th><th>i</th><th>z</th><th>class</th><th>specz</th><th>speczer</th></tr></thead>\n",
       "<thead><tr><th>float64</th><th>float64</th><th>float32</th><th>float32</th><th>float32</th><th>float32</th><th>float32</th><th>str32</th><th>float32</th><th>float32</th></tr></thead>\n",
       "<tr><td>55.5854993277</td><td>1.0214755259</td><td>18.7981</td><td>17.1568</td><td>16.4629</td><td>16.0512</td><td>15.7572</td><td>GALAXY</td><td>0.0375854</td><td>1.21012e-05</td></tr>\n",
       "<tr><td>55.5936253842</td><td>1.00002821365</td><td>19.2083</td><td>18.0934</td><td>17.6449</td><td>17.3163</td><td>17.1272</td><td>GALAXY</td><td>0.0722986</td><td>6.83051e-06</td></tr>\n",
       "<tr><td>119.864533502</td><td>0.577223091692</td><td>19.5077</td><td>17.588</td><td>16.6191</td><td>16.1577</td><td>15.8404</td><td>GALAXY</td><td>0.0949418</td><td>1.31523e-05</td></tr>\n",
       "<tr><td>244.284910359</td><td>-0.455476619333</td><td>18.6243</td><td>16.6891</td><td>15.6732</td><td>15.2011</td><td>14.8175</td><td>GALAXY</td><td>0.092808</td><td>1.84619e-05</td></tr>\n",
       "<tr><td>244.241553069</td><td>-0.048437840441</td><td>19.3458</td><td>17.9135</td><td>17.2692</td><td>16.9746</td><td>16.6808</td><td>GALAXY</td><td>0.0803378</td><td>1.2551e-05</td></tr>\n",
       "<tr><td>197.212436004</td><td>0.405354382508</td><td>18.9968</td><td>17.0615</td><td>16.0763</td><td>15.6325</td><td>15.2942</td><td>GALAXY</td><td>0.096066</td><td>1.21444e-05</td></tr>\n",
       "<tr><td>242.273332856</td><td>1.08297757452</td><td>19.3646</td><td>18.0262</td><td>17.5317</td><td>17.2323</td><td>17.0368</td><td>GALAXY</td><td>0.0553339</td><td>5.40396e-06</td></tr>\n",
       "<tr><td>189.393474701</td><td>-1.24580574622</td><td>19.5096</td><td>17.3705</td><td>16.261</td><td>15.8153</td><td>15.451</td><td>GALAXY</td><td>0.135351</td><td>2.36187e-05</td></tr>\n",
       "<tr><td>189.999155244</td><td>-1.17914420262</td><td>18.557</td><td>18.2298</td><td>18.1817</td><td>18.3339</td><td>18.2263</td><td>QSO</td><td>0.819497</td><td>0.000170763</td></tr>\n",
       "<tr><td>197.966533393</td><td>-1.24047909058</td><td>18.8783</td><td>17.1128</td><td>16.2297</td><td>15.8557</td><td>15.5864</td><td>GALAXY</td><td>0.0975197</td><td>1.95151e-05</td></tr>\n",
       "<tr><td>...</td><td>...</td><td>...</td><td>...</td><td>...</td><td>...</td><td>...</td><td>...</td><td>...</td><td>...</td></tr>\n",
       "<tr><td>216.612529862</td><td>-1.16881730058</td><td>18.8275</td><td>17.8075</td><td>17.3127</td><td>16.9798</td><td>16.8228</td><td>GALAXY</td><td>0.0831395</td><td>7.26475e-06</td></tr>\n",
       "<tr><td>216.67459771</td><td>-1.14927470327</td><td>18.782</td><td>17.8066</td><td>17.3473</td><td>17.0962</td><td>16.9073</td><td>GALAXY</td><td>0.0306497</td><td>7.12802e-06</td></tr>\n",
       "<tr><td>216.746767124</td><td>-1.23288332067</td><td>18.5336</td><td>16.7799</td><td>15.9465</td><td>15.5081</td><td>15.2323</td><td>GALAXY</td><td>0.0993268</td><td>2.65686e-05</td></tr>\n",
       "<tr><td>217.897630158</td><td>-1.19994381218</td><td>19.3947</td><td>18.852</td><td>18.8308</td><td>18.6331</td><td>18.7424</td><td>QSO</td><td>0.56046</td><td>5.91748e-05</td></tr>\n",
       "<tr><td>214.546176704</td><td>5.47618180171</td><td>19.4096</td><td>18.0112</td><td>17.4072</td><td>17.0647</td><td>16.8544</td><td>GALAXY</td><td>0.0552604</td><td>1.95731e-05</td></tr>\n",
       "<tr><td>214.540136051</td><td>5.42560226567</td><td>18.9502</td><td>18.0112</td><td>17.6387</td><td>17.4177</td><td>17.1983</td><td>GALAXY</td><td>0.0252388</td><td>6.17691e-06</td></tr>\n",
       "<tr><td>214.565892637</td><td>5.44071930179</td><td>19.4084</td><td>17.4896</td><td>16.4783</td><td>16.0429</td><td>15.6699</td><td>GALAXY</td><td>0.108113</td><td>2.78174e-05</td></tr>\n",
       "<tr><td>216.667737309</td><td>5.20459828912</td><td>19.3272</td><td>18.2125</td><td>17.5879</td><td>17.2696</td><td>17.085</td><td>GALAXY</td><td>0.113063</td><td>1.69899e-05</td></tr>\n",
       "<tr><td>217.896483044</td><td>5.24181210595</td><td>18.8783</td><td>18.8113</td><td>18.695</td><td>18.8017</td><td>18.7714</td><td>QSO</td><td>0.998643</td><td>0.000265549</td></tr>\n",
       "<tr><td>217.900738573</td><td>5.13754176597</td><td>19.3035</td><td>17.6654</td><td>16.7343</td><td>16.3047</td><td>15.9494</td><td>GALAXY</td><td>0.118982</td><td>2.77453e-05</td></tr>\n",
       "</table>"
      ],
      "text/plain": [
       "<Table length=50000>\n",
       "      ra            dec          u       g    ... class    specz     speczer  \n",
       "   float64        float64     float32 float32 ... str32   float32    float32  \n",
       "------------- --------------- ------- ------- ... ------ --------- -----------\n",
       "55.5854993277    1.0214755259 18.7981 17.1568 ... GALAXY 0.0375854 1.21012e-05\n",
       "55.5936253842   1.00002821365 19.2083 18.0934 ... GALAXY 0.0722986 6.83051e-06\n",
       "119.864533502  0.577223091692 19.5077  17.588 ... GALAXY 0.0949418 1.31523e-05\n",
       "244.284910359 -0.455476619333 18.6243 16.6891 ... GALAXY  0.092808 1.84619e-05\n",
       "244.241553069 -0.048437840441 19.3458 17.9135 ... GALAXY 0.0803378  1.2551e-05\n",
       "197.212436004  0.405354382508 18.9968 17.0615 ... GALAXY  0.096066 1.21444e-05\n",
       "242.273332856   1.08297757452 19.3646 18.0262 ... GALAXY 0.0553339 5.40396e-06\n",
       "189.393474701  -1.24580574622 19.5096 17.3705 ... GALAXY  0.135351 2.36187e-05\n",
       "189.999155244  -1.17914420262  18.557 18.2298 ...    QSO  0.819497 0.000170763\n",
       "197.966533393  -1.24047909058 18.8783 17.1128 ... GALAXY 0.0975197 1.95151e-05\n",
       "          ...             ...     ...     ... ...    ...       ...         ...\n",
       "216.612529862  -1.16881730058 18.8275 17.8075 ... GALAXY 0.0831395 7.26475e-06\n",
       " 216.67459771  -1.14927470327  18.782 17.8066 ... GALAXY 0.0306497 7.12802e-06\n",
       "216.746767124  -1.23288332067 18.5336 16.7799 ... GALAXY 0.0993268 2.65686e-05\n",
       "217.897630158  -1.19994381218 19.3947  18.852 ...    QSO   0.56046 5.91748e-05\n",
       "214.546176704   5.47618180171 19.4096 18.0112 ... GALAXY 0.0552604 1.95731e-05\n",
       "214.540136051   5.42560226567 18.9502 18.0112 ... GALAXY 0.0252388 6.17691e-06\n",
       "214.565892637   5.44071930179 19.4084 17.4896 ... GALAXY  0.108113 2.78174e-05\n",
       "216.667737309   5.20459828912 19.3272 18.2125 ... GALAXY  0.113063 1.69899e-05\n",
       "217.896483044   5.24181210595 18.8783 18.8113 ...    QSO  0.998643 0.000265549\n",
       "217.900738573   5.13754176597 19.3035 17.6654 ... GALAXY  0.118982 2.77453e-05"
      ]
     },
     "execution_count": 5,
     "metadata": {},
     "output_type": "execute_result"
    }
   ],
   "source": [
    "sdss"
   ]
  },
  {
   "cell_type": "code",
   "execution_count": 6,
   "metadata": {
    "collapsed": true
   },
   "outputs": [],
   "source": [
    "from bokeh.models import ColumnDataSource\n",
    "from bokeh.plotting import figure, gridplot, output_notebook, output_file, show\n",
    "\n",
    "\n",
    "umg = sdss['u'] - sdss['g']\n",
    "gmr = sdss['g'] - sdss['r']\n",
    "rmi = sdss['r'] - sdss['i']\n",
    "imz = sdss['i'] - sdss['z']\n",
    "\n",
    "# create a column data source for the plots to share\n",
    "source = ColumnDataSource(data=dict(umg=umg, gmr=gmr, rmi=rmi,imz=imz))"
   ]
  },
  {
   "cell_type": "markdown",
   "metadata": {},
   "source": [
    "We will output to a static html file. \n",
    "\n",
    "The output_notebook() function can output to the notebook, \n",
    "but with 50,000 points it really slows down."
   ]
  },
  {
   "cell_type": "code",
   "execution_count": 7,
   "metadata": {
    "collapsed": false
   },
   "outputs": [],
   "source": [
    "output_file('sdss_color_color.html')"
   ]
  },
  {
   "cell_type": "code",
   "execution_count": 8,
   "metadata": {
    "collapsed": false
   },
   "outputs": [],
   "source": [
    "TOOLS = \"pan,wheel_zoom,reset,box_select,poly_select,help\"\n",
    "\n",
    "# create a new plot and add a renderer\n",
    "left = figure(tools=TOOLS, width=400, height=400, title='SDSS g-r vs u-g', webgl=True)\n",
    "left.x('umg', 'gmr', source=source)\n",
    "\n",
    "# create another new plot and add a renderer\n",
    "right = figure(tools=TOOLS, width=400, height=400, title='SDSS i-z vs r-i')\n",
    "right.x('rmi', 'imz', source=source)\n",
    "\n",
    "p = gridplot([[left, right]])\n",
    "\n",
    "show(p)"
   ]
  },
  {
   "cell_type": "markdown",
   "metadata": {
    "collapsed": true
   },
   "source": [
    "See many examples of configuring plot tools at http://bokeh.pydata.org/en/latest/docs/user_guide/tools.html"
   ]
  },
  {
   "cell_type": "code",
   "execution_count": null,
   "metadata": {
    "collapsed": true
   },
   "outputs": [],
   "source": []
  },
  {
   "cell_type": "code",
   "execution_count": null,
   "metadata": {
    "collapsed": true
   },
   "outputs": [],
   "source": []
  },
  {
   "cell_type": "markdown",
   "metadata": {
    "collapsed": true
   },
   "source": [
    "## Interacting with Glue"
   ]
  },
  {
   "cell_type": "code",
   "execution_count": 9,
   "metadata": {
    "collapsed": false
   },
   "outputs": [],
   "source": [
    "#import glue"
   ]
  },
  {
   "cell_type": "code",
   "execution_count": null,
   "metadata": {
    "collapsed": true
   },
   "outputs": [],
   "source": [
    "# Quick way to launch Glue\n",
    "#from glue import qglue\n",
    "#qglue()"
   ]
  },
  {
   "cell_type": "markdown",
   "metadata": {},
   "source": [
    "Here we'll interact with Glue from the notebook."
   ]
  },
  {
   "cell_type": "code",
   "execution_count": 11,
   "metadata": {
    "collapsed": false
   },
   "outputs": [],
   "source": [
    "import astropy.io.fits as fits\n",
    "hdu = fits.open('data/w5.fits')"
   ]
  },
  {
   "cell_type": "code",
   "execution_count": 12,
   "metadata": {
    "collapsed": false
   },
   "outputs": [
    {
     "data": {
      "text/plain": [
       "SIMPLE  =                    T / Written by SkyView Mon Sep 24 16:13:12 EDT 2012\n",
       "BITPIX  =                  -32 / 4 byte floating point                          \n",
       "NAXIS   =                    2 / Two dimensional image                          \n",
       "NAXIS1  =                 1000 / Width of image                                 \n",
       "NAXIS2  =                 1000 / Height of image                                \n",
       "CRVAL1  =                43.46 / Reference longitude                            \n",
       "CRVAL2  =                60.38 / Reference latitude                             \n",
       "RADESYS = 'FK5     '           / Coordinate system                              \n",
       "EQUINOX =               2000.0 / Epoch of the equinox                           \n",
       "CTYPE1  = 'RA---TAN'           / Coordinates -- projection                      \n",
       "CTYPE2  = 'DEC--TAN'           / Coordinates -- projection                      \n",
       "CRPIX1  =                500.5 / X reference pixel                              \n",
       "CRPIX2  =                500.5 / Y reference pixel                              \n",
       "CDELT1  =   -0.003000000000000 / X scale                                        \n",
       "CDELT2  =    0.003000000000000 / Y scale                                        \n",
       "COMMENT                                                                         \n",
       "COMMENT  SkyView Survey metadata                                                \n",
       "COMMENT                                                                         \n",
       "COMMENT Provenance:  WISE Archive (IRSA/IPAC)                                   \n",
       "COMMENT Copyright:   WISE data is in the public domain but publications are re  \n",
       "COMMENT           quested to include the       statment:        This publicati  \n",
       "COMMENT           on makes use of data products from the Wide-field Infrared S  \n",
       "COMMENT           urvey Explorer,       which is a joint project of the Univer  \n",
       "COMMENT           sity of California, Los Angeles,       and the Jet Propulsio  \n",
       "COMMENT           n Laboratory/California Institute of Technology,       funde  \n",
       "COMMENT           d by the National Aeronautics and Space Administration.       \n",
       "COMMENT Regime:      Infrared                                                   \n",
       "COMMENT NSurvey:     4                                                          \n",
       "COMMENT Frequency:   25 THz (12 micrometers)                                    \n",
       "COMMENT Bandpass:    18-40 THz                                                  \n",
       "COMMENT Coverage:    All sky                                                    \n",
       "COMMENT PixelScale:  1.375\"                                                     \n",
       "COMMENT PixelUnits:  DN                                                         \n",
       "COMMENT Resolution:  6.5\"                                                       \n",
       "COMMENT Coordinates: Equatorial                                                 \n",
       "COMMENT Projection:  Sine                                                       \n",
       "COMMENT Epoch:       January 7 to August 6, 2010                                \n",
       "COMMENT Reference:    Wright et al (2010)                                       \n",
       "COMMENT                                                                         \n",
       "COMMENT Survey specific cards                                                   \n",
       "COMMENT                                                                         \n",
       "SURVEY  = 'WISE 12 micron allsky release'                                       \n",
       "HISTORY                                                                         \n",
       "HISTORY  Settings used in processing:                                           \n",
       "HISTORY                                                                         \n",
       "HISTORY cache = /skyview8/cache/surveys/                                        \n",
       "HISTORY coordinates = J2000.0                                                   \n",
       "HISTORY coordselect = J2000                                                     \n",
       "HISTORY cs = standard                                                           \n",
       "HISTORY deedger = skyview.process.Deedger                                       \n",
       "HISTORY descriptionxslt = cgifiles/description.xsl                              \n",
       "HISTORY dummy                                                                   \n",
       "HISTORY equinox = 2000                                                          \n",
       "HISTORY finalpostprocessor = skyview.ij.IJProcessor,skyview.data.BoxSmoother,sky\n",
       "HISTORY float = on                                                              \n",
       "HISTORY footertemplate = cgifiles/skyfooter.html                                \n",
       "HISTORY galleryxslt = cgifiles/gallerymultipage.xsl                             \n",
       "HISTORY headertemplate = cgifiles/skyheader.html                                \n",
       "HISTORY htmlwriter = skyview.request.HTMLWriter                                 \n",
       "HISTORY imagefactory = skyview.survey.CachingImageFactory                       \n",
       "HISTORY imagesize = 1.6                                                         \n",
       "HISTORY imscale = 3                                                             \n",
       "HISTORY localurl = http://skyview.gsfc.nasa.gov/surveys,/skyview/htdocs/surveys \n",
       "HISTORY lut = colortables/b-w-linear.bin                                        \n",
       "HISTORY lutcbarpath = /images/colorbars/                                        \n",
       "HISTORY mosaicker = skyview.process.Mosaicker                                   \n",
       "HISTORY name = WISE 12 Micron All-Sky Survey                                    \n",
       "HISTORY noexit =                                                                \n",
       "HISTORY nullimagedir = ../images/nodata                                         \n",
       "HISTORY nwindow = on                                                            \n",
       "HISTORY output = ../tempspace/fits/skv7286600634832                             \n",
       "HISTORY outputroot = ../tempspace/fits/                                         \n",
       "HISTORY pixels = 1000                                                           \n",
       "HISTORY position = 43.46, 60.38                                                 \n",
       "HISTORY postprocessor = skyview.ij.IJProcessor,skyview.request.HTMLWriter       \n",
       "HISTORY projection = Tan                                                        \n",
       "HISTORY quicklook = jpeg                                                        \n",
       "HISTORY reqxpos = 43.46                                                         \n",
       "HISTORY reqypos = 60.38                                                         \n",
       "HISTORY resolver = SIMBAD-NED                                                   \n",
       "HISTORY rgbtemplate = cgifiles/skyrgb.html                                      \n",
       "HISTORY rgbwriter = skyview.request.RGBWriter                                   \n",
       "HISTORY sampler = Default                                                       \n",
       "HISTORY savebysurvey                                                            \n",
       "HISTORY scale = 0.0003819                                                       \n",
       "HISTORY scaling = loglog                                                        \n",
       "HISTORY settingsupdaters = BatchCompatibility,SettingsFixer,skyview.request.Toas\n",
       "HISTORY shortname = Wise W3,Wise 12, WiseW3, Wise12                             \n",
       "HISTORY siabase = http://skyview.gsfc.nasa.gov/cgi-bin/images?                  \n",
       "HISTORY siaimagetimeout = 1200000                                               \n",
       "HISTORY siapfilterfield = VOX:BandPass_ID                                       \n",
       "HISTORY siapfiltervalue = W3                                                    \n",
       "HISTORY siapurl = http://irsa.ipac.caltech.edu/ibe/sia/wise/allsky/4band_p3am_cd\n",
       "HISTORY size = 3.0,3.0                                                          \n",
       "HISTORY spcoordinates =                                                         \n",
       "HISTORY survey = WISE 12                                                        \n",
       "HISTORY surveyfinder = skyview.survey.XMLSurveyFinder                           \n",
       "HISTORY surveymanifest = surveys/survey.manifest                                \n",
       "HISTORY surveysheader = cgifiles/survey.header                                  \n",
       "HISTORY surveytemplate = cgifiles/skysurvey.html                                \n",
       "HISTORY url.heasarcbase = http://heasarc.gsfc.nasa.gov/xamin/vo/cone?table=     \n",
       "HISTORY url.ned = http://nedwww.ipac.caltech.edu/cgi-bin/nph-NEDobjsearch?search\n",
       "HISTORY url.simbad = http://simbad.u-strasbg.fr/simbad-conesearch.pl?           \n",
       "HISTORY url.vizierbase = http://vizier.u-strasbg.fr/viz-bin/votable/-dtd/-A?-out\n",
       "HISTORY urlcoordinates = http://heasarc.gsfc.nasa.gov/cgi-bin/Tools/convcoord/co\n",
       "HISTORY urllocalhelp = http://skyview.gsfc.nasa.gov/help/help.html              \n",
       "HISTORY webrootpath = /skyview/htdocs/                                          \n",
       "HISTORY                                                                         \n",
       "HISTORY  Map generated at: Mon Sep 24 16:13:12 EDT 2012                         \n",
       "HISTORY                                                                         \n",
       "HISTORY  Resampler used: NNSampler                                              \n",
       "HISTORY                                                                         \n",
       "HISTORY                                                                         \n",
       "HISTORY Image mosaicking using skyview.geometry.Mosaicker                       \n",
       "HISTORY                                                                         \n",
       "HISTORY   Used image:/skyview8/cache/surveys/Wise_W3/0460p590_ab41-w3-int-3.fits\n",
       "HISTORY   Used image:/skyview8/cache/surveys/Wise_W3/0432p590_ab41-w3-int-3.fits\n",
       "HISTORY   Used image:/skyview8/cache/surveys/Wise_W3/0403p590_ab41-w3-int-3.fits\n",
       "HISTORY   Used image:/skyview8/cache/surveys/Wise_W3/0450p605_ab41-w3-int-3.fits\n",
       "HISTORY   Used image:/skyview8/cache/surveys/Wise_W3/0420p605_ab41-w3-int-3.fits\n",
       "HISTORY   Used image:/skyview8/cache/surveys/Wise_W3/0390p605_ab41-w3-int-3.fits\n",
       "HISTORY   Used image:/skyview8/cache/surveys/Wise_W3/0480p605_ab41-w3-int-3.fits\n",
       "HISTORY   Used image:/skyview8/cache/surveys/Wise_W3/0442p620_ab41-w3-int-3.fits\n",
       "HISTORY   Used image:/skyview8/cache/surveys/Wise_W3/0410p620_ab41-w3-int-3.fits\n",
       "HISTORY   Used image:/skyview8/cache/surveys/Wise_W3/0473p620_ab41-w3-int-3.fits\n",
       "HISTORY                                                                         \n",
       "HISTORY                                                                         \n",
       "HISTORY Edge adjustments applied (skyview.geometry.DeedgerList                  \n",
       "HISTORY                                                                         \n",
       "HISTORY      Image 0403p590_ab41-w3-int-3.fits offset by -10.0955810546875      \n",
       "HISTORY      Image 0432p590_ab41-w3-int-3.fits offset by -14.76416015625        \n",
       "HISTORY      Image 0460p590_ab41-w3-int-3.fits offset by -18.1815185546875      \n",
       "HISTORY      Image 0390p605_ab41-w3-int-3.fits offset by 1.0014190673828125     \n",
       "HISTORY      Image 0410p620_ab41-w3-int-3.fits offset by -5.81903076171875      \n",
       "HISTORY      Image 0442p620_ab41-w3-int-3.fits offset by -1.201446533203125     \n",
       "HISTORY      Image 0450p605_ab41-w3-int-3.fits offset by -12.527557373046875    \n",
       "HISTORY      Image 0473p620_ab41-w3-int-3.fits offset by -8.7635498046875       \n",
       "HISTORY      Image 0480p605_ab41-w3-int-3.fits offset by -10.600997924804688    \n",
       "HISTORY                                                                         "
      ]
     },
     "execution_count": 12,
     "metadata": {},
     "output_type": "execute_result"
    }
   ],
   "source": [
    "hdu[0].header"
   ]
  },
  {
   "cell_type": "code",
   "execution_count": 13,
   "metadata": {
    "collapsed": true
   },
   "outputs": [],
   "source": [
    "from astropy.table import Table"
   ]
  },
  {
   "cell_type": "code",
   "execution_count": 14,
   "metadata": {
    "collapsed": false
   },
   "outputs": [
    {
     "name": "stderr",
     "output_type": "stream",
     "text": [
      "WARNING: W03: None:11:0: W03: Implicitly generating an ID from a name 'J/ApJ/688/1142/table2' -> 'J_ApJ_688_1142_table2' [astropy.io.votable.xmlutil]\n",
      "WARNING: W03: None:17:0: W03: Implicitly generating an ID from a name '-ref' -> '_-ref' [astropy.io.votable.xmlutil]\n",
      "WARNING: W03: None:18:0: W03: Implicitly generating an ID from a name '-out.max' -> '_-out.max' [astropy.io.votable.xmlutil]\n",
      "WARNING: W03: None:63:0: W03: Implicitly generating an ID from a name '[3.6]' -> '__3.6_' [astropy.io.votable.xmlutil]\n",
      "WARNING: W03: None:66:0: W03: Implicitly generating an ID from a name '[4.5]' -> '__4.5_' [astropy.io.votable.xmlutil]\n",
      "WARNING: W03: None:69:0: W03: Implicitly generating an ID from a name '[5.8]' -> '__5.8_' [astropy.io.votable.xmlutil]\n",
      "WARNING: W03: None:72:0: W03: Implicitly generating an ID from a name '[8.0]' -> '__8.0_' [astropy.io.votable.xmlutil]\n",
      "WARNING: W03: None:75:0: W03: Implicitly generating an ID from a name '[24]' -> '__24_' [astropy.io.votable.xmlutil]\n",
      "WARNING: W03: None:81:0: W03: Implicitly generating an ID from a name '[4.5] - [5.8]' -> '__4.5__-__5.8_' [astropy.io.votable.xmlutil]\n",
      "WARNING: W03: None:84:0: W03: Implicitly generating an ID from a name '[5.8] - [8.0]' -> '__5.8__-__8.0_' (suppressing further warnings of this type...) [astropy.io.votable.xmlutil]\n"
     ]
    }
   ],
   "source": [
    "catalog = Table.read('data/w5_psc.vot')"
   ]
  },
  {
   "cell_type": "code",
   "execution_count": 15,
   "metadata": {
    "collapsed": false
   },
   "outputs": [],
   "source": [
    "wisecat = Table.read('data/w5_wise.tbl', format='ipac')"
   ]
  },
  {
   "cell_type": "code",
   "execution_count": 16,
   "metadata": {
    "collapsed": true
   },
   "outputs": [],
   "source": [
    "%gui qt"
   ]
  },
  {
   "cell_type": "code",
   "execution_count": 17,
   "metadata": {
    "collapsed": false
   },
   "outputs": [],
   "source": [
    "#qglue(catalog=catalog, image=hdu, wisecat=wisecat)"
   ]
  },
  {
   "cell_type": "code",
   "execution_count": 18,
   "metadata": {
    "collapsed": false
   },
   "outputs": [
    {
     "name": "stderr",
     "output_type": "stream",
     "text": [
      "WARNING: W03: data/w5_psc.vot:11:0: W03: Implicitly generating an ID from a name 'J/ApJ/688/1142/table2' -> 'J_ApJ_688_1142_table2' [astropy.io.votable.xmlutil]\n",
      "WARNING: W03: data/w5_psc.vot:17:0: W03: Implicitly generating an ID from a name '-ref' -> '_-ref' [astropy.io.votable.xmlutil]\n",
      "WARNING: W03: data/w5_psc.vot:18:0: W03: Implicitly generating an ID from a name '-out.max' -> '_-out.max' [astropy.io.votable.xmlutil]\n",
      "WARNING: W03: data/w5_psc.vot:63:0: W03: Implicitly generating an ID from a name '[3.6]' -> '__3.6_' [astropy.io.votable.xmlutil]\n",
      "WARNING: W03: data/w5_psc.vot:66:0: W03: Implicitly generating an ID from a name '[4.5]' -> '__4.5_' [astropy.io.votable.xmlutil]\n",
      "WARNING: W03: data/w5_psc.vot:69:0: W03: Implicitly generating an ID from a name '[5.8]' -> '__5.8_' [astropy.io.votable.xmlutil]\n",
      "WARNING: W03: data/w5_psc.vot:72:0: W03: Implicitly generating an ID from a name '[8.0]' -> '__8.0_' [astropy.io.votable.xmlutil]\n",
      "WARNING: W03: data/w5_psc.vot:75:0: W03: Implicitly generating an ID from a name '[24]' -> '__24_' [astropy.io.votable.xmlutil]\n",
      "WARNING: W03: data/w5_psc.vot:81:0: W03: Implicitly generating an ID from a name '[4.5] - [5.8]' -> '__4.5__-__5.8_' [astropy.io.votable.xmlutil]\n",
      "WARNING: W03: data/w5_psc.vot:84:0: W03: Implicitly generating an ID from a name '[5.8] - [8.0]' -> '__5.8__-__8.0_' (suppressing further warnings of this type...) [astropy.io.votable.xmlutil]\n"
     ]
    },
    {
     "data": {
      "text/plain": [
       "-1"
      ]
     },
     "execution_count": 18,
     "metadata": {},
     "output_type": "execute_result"
    }
   ],
   "source": [
    "from glue.core.data_factories import load_data\n",
    "from glue.core import DataCollection\n",
    "from glue.core.link_helpers import LinkSame\n",
    "from glue.app.qt.application import GlueApplication\n",
    "\n",
    "#load 2 datasets from files\n",
    "image = load_data('data/w5.fits')\n",
    "catalog = load_data('data/w5_psc.vot')\n",
    "\n",
    "dc = DataCollection([image, catalog])\n",
    "\n",
    "# link positional information\n",
    "dc.add_link(LinkSame(image.id['Right Ascension'], catalog.id['RAJ2000']))\n",
    "dc.add_link(LinkSame(image.id['Declination'], catalog.id['DEJ2000']))\n",
    "\n",
    "#start Glue\n",
    "app = GlueApplication(dc)\n",
    "app.start()"
   ]
  },
  {
   "cell_type": "code",
   "execution_count": 19,
   "metadata": {
    "collapsed": false
   },
   "outputs": [
    {
     "data": {
      "text/plain": [
       "DataCollection (2 data sets)\n",
       "\t  0: w5[PRIMARY]\n",
       "\t  1: w5_psc"
      ]
     },
     "execution_count": 19,
     "metadata": {},
     "output_type": "execute_result"
    }
   ],
   "source": [
    "dc"
   ]
  },
  {
   "cell_type": "code",
   "execution_count": 20,
   "metadata": {
    "collapsed": false
   },
   "outputs": [
    {
     "data": {
      "text/plain": [
       "[Declination, PRIMARY, Pixel x, Pixel y, Right Ascension]"
      ]
     },
     "execution_count": 20,
     "metadata": {},
     "output_type": "execute_result"
    }
   ],
   "source": [
    "dc[0].components"
   ]
  },
  {
   "cell_type": "code",
   "execution_count": 21,
   "metadata": {
    "collapsed": false
   },
   "outputs": [
    {
     "data": {
      "text/plain": [
       "Right Ascension"
      ]
     },
     "execution_count": 21,
     "metadata": {},
     "output_type": "execute_result"
    }
   ],
   "source": [
    "dc[0].id['Right Ascension']"
   ]
  },
  {
   "cell_type": "code",
   "execution_count": 22,
   "metadata": {
    "collapsed": true
   },
   "outputs": [],
   "source": [
    "catalog = dc[1]"
   ]
  },
  {
   "cell_type": "code",
   "execution_count": 23,
   "metadata": {
    "collapsed": true
   },
   "outputs": [],
   "source": [
    "j_minus_h = catalog['Jmag'] - catalog['Hmag']"
   ]
  },
  {
   "cell_type": "code",
   "execution_count": 24,
   "metadata": {
    "collapsed": true
   },
   "outputs": [],
   "source": [
    "catalog['jmh'] = j_minus_h"
   ]
  },
  {
   "cell_type": "code",
   "execution_count": 28,
   "metadata": {
    "collapsed": true
   },
   "outputs": [],
   "source": [
    "hmag = catalog.id['Hmag']\n",
    "jmag = catalog.id['Jmag']"
   ]
  },
  {
   "cell_type": "code",
   "execution_count": 29,
   "metadata": {
    "collapsed": false
   },
   "outputs": [
    {
     "data": {
      "text/plain": [
       "<glue.core.subset_group.SubsetGroup at 0x12fb39748>"
      ]
     },
     "execution_count": 29,
     "metadata": {},
     "output_type": "execute_result"
    }
   ],
   "source": [
    "jmhred = (jmag - hmag) > 1.5\n",
    "dc.new_subset_group('j - h > 1.5', mid_mag)"
   ]
  },
  {
   "cell_type": "code",
   "execution_count": 30,
   "metadata": {
    "collapsed": false
   },
   "outputs": [
    {
     "data": {
      "text/plain": [
       "(<glue.core.subset_group.SubsetGroup at 0x12e567cf8>,\n",
       " <glue.core.subset_group.SubsetGroup at 0x12d07e2e8>,\n",
       " <glue.core.subset_group.SubsetGroup at 0x12f386a58>,\n",
       " <glue.core.subset_group.SubsetGroup at 0x12fb39748>)"
      ]
     },
     "execution_count": 30,
     "metadata": {},
     "output_type": "execute_result"
    }
   ],
   "source": [
    "dc.subset_groups"
   ]
  },
  {
   "cell_type": "code",
   "execution_count": 31,
   "metadata": {
    "collapsed": false
   },
   "outputs": [
    {
     "data": {
      "text/plain": [
       "'hmag_ between_10_15'"
      ]
     },
     "execution_count": 31,
     "metadata": {},
     "output_type": "execute_result"
    }
   ],
   "source": [
    "dc.subset_groups[2].label"
   ]
  },
  {
   "cell_type": "code",
   "execution_count": 32,
   "metadata": {
    "collapsed": false
   },
   "outputs": [
    {
     "data": {
      "text/plain": [
       "(Subset: 1.3 < jmh < 2.6 (data: w5_psc),\n",
       " Subset: Western lobe (data: w5_psc),\n",
       " Subset: hmag_ between_10_15 (data: w5_psc),\n",
       " Subset: j - h > 1.5 (data: w5_psc))"
      ]
     },
     "execution_count": 32,
     "metadata": {},
     "output_type": "execute_result"
    }
   ],
   "source": [
    "catalog.subsets"
   ]
  },
  {
   "cell_type": "code",
   "execution_count": 33,
   "metadata": {
    "collapsed": false
   },
   "outputs": [
    {
     "data": {
      "text/plain": [
       "array([ 15.34000015,  10.89999962,  13.30000019, ...,  13.06000042,\n",
       "        13.38000011,  14.18000031], dtype=float32)"
      ]
     },
     "execution_count": 33,
     "metadata": {},
     "output_type": "execute_result"
    }
   ],
   "source": [
    "catalog.subsets[2]['Jmag']"
   ]
  },
  {
   "cell_type": "code",
   "execution_count": 34,
   "metadata": {
    "collapsed": false
   },
   "outputs": [
    {
     "data": {
      "text/plain": [
       "array([ True,  True,  True, ...,  True,  True,  True], dtype=bool)"
      ]
     },
     "execution_count": 34,
     "metadata": {},
     "output_type": "execute_result"
    }
   ],
   "source": [
    "catalog.subsets[2].to_mask()"
   ]
  },
  {
   "cell_type": "code",
   "execution_count": null,
   "metadata": {
    "collapsed": true
   },
   "outputs": [],
   "source": []
  }
 ],
 "metadata": {
  "kernelspec": {
   "display_name": "Python 3",
   "language": "python",
   "name": "python3"
  },
  "language_info": {
   "codemirror_mode": {
    "name": "ipython",
    "version": 3
   },
   "file_extension": ".py",
   "mimetype": "text/x-python",
   "name": "python",
   "nbconvert_exporter": "python",
   "pygments_lexer": "ipython3",
   "version": "3.5.1"
  },
  "widgets": {
   "state": {},
   "version": "1.1.0"
  }
 },
 "nbformat": 4,
 "nbformat_minor": 0
}
