{
 "cells": [
  {
   "cell_type": "markdown",
   "metadata": {},
   "source": [
    "# Regression/Machine learning example"
   ]
  },
  {
   "cell_type": "markdown",
   "metadata": {},
   "source": [
    "This example comes from the [astroML site](http://astroml.org)."
   ]
  },
  {
   "cell_type": "code",
   "execution_count": null,
   "metadata": {
    "collapsed": true
   },
   "outputs": [],
   "source": [
    "# Author: Jake VanderPlas <vanderplas@astro.washington.edu>\n",
    "# License: BSD\n",
    "#   The figure is an example from astroML: see http://astroML.github.com\n",
    "import numpy as np\n",
    "from matplotlib import pyplot as plt\n",
    "\n",
    "from sklearn.neighbors import KNeighborsRegressor\n",
    "\n",
    "#from astroML.datasets import fetch_sdss_galaxy_colors\n",
    "\n",
    "n_neighbors = 2"
   ]
  },
  {
   "cell_type": "code",
   "execution_count": null,
   "metadata": {
    "collapsed": true
   },
   "outputs": [],
   "source": [
    "#data = fetch_sdss_galaxy_colors() ## Not working for me\n",
    "from astropy.table import Table\n",
    "data = Table.read('data/sdss_galaxies_qsos_50k.fits')\n",
    "\n",
    "N = len(data)"
   ]
  },
  {
   "cell_type": "code",
   "execution_count": null,
   "metadata": {
    "collapsed": false
   },
   "outputs": [],
   "source": [
    "data[:10]"
   ]
  },
  {
   "cell_type": "code",
   "execution_count": null,
   "metadata": {
    "collapsed": false
   },
   "outputs": [],
   "source": [
    "# shuffle data\n",
    "np.random.seed(0)\n",
    "np.random.shuffle(data)"
   ]
  },
  {
   "cell_type": "code",
   "execution_count": null,
   "metadata": {
    "collapsed": true
   },
   "outputs": [],
   "source": [
    "# put colors in a matrix\n",
    "X = np.zeros((N, 4))\n",
    "X[:, 0] = data['u'] - data['g']\n",
    "X[:, 1] = data['g'] - data['r']\n",
    "X[:, 2] = data['r'] - data['i']\n",
    "X[:, 3] = data['i'] - data['z']\n",
    "z = data['specz']"
   ]
  },
  {
   "cell_type": "code",
   "execution_count": null,
   "metadata": {
    "collapsed": false
   },
   "outputs": [],
   "source": [
    "# divide into training and testing data\n",
    "Ntrain = N / 2\n",
    "Xtrain = X[:Ntrain]\n",
    "ztrain = z[:Ntrain]\n",
    "\n",
    "Xtest = X[Ntrain:]\n",
    "ztest = z[Ntrain:]"
   ]
  },
  {
   "cell_type": "code",
   "execution_count": null,
   "metadata": {
    "collapsed": false
   },
   "outputs": [],
   "source": [
    "knn = KNeighborsRegressor(n_neighbors, weights='uniform')\n",
    "%time zpred = knn.fit(Xtrain, ztrain).predict(Xtest)"
   ]
  },
  {
   "cell_type": "code",
   "execution_count": null,
   "metadata": {
    "collapsed": false
   },
   "outputs": [],
   "source": [
    "axis_lim = np.array([-0.1, 2.5])\n",
    "\n",
    "rms = np.sqrt(np.mean((ztest - zpred) ** 2))\n",
    "print(\"RMS error = %.2g\" % rms)"
   ]
  },
  {
   "cell_type": "code",
   "execution_count": null,
   "metadata": {
    "collapsed": false
   },
   "outputs": [],
   "source": [
    "%matplotlib inline\n",
    "ax = plt.axes()\n",
    "plt.scatter(ztest, zpred, c='k', lw=0, s=4)\n",
    "plt.plot(axis_lim, axis_lim, '--k')\n",
    "plt.plot(axis_lim, axis_lim + rms, ':k')\n",
    "plt.plot(axis_lim, axis_lim - rms, ':k')\n",
    "plt.xlim(axis_lim)\n",
    "plt.ylim(axis_lim)\n",
    "\n",
    "plt.text(0.99, 0.02, \"RMS error = %.2g\" % rms,\n",
    "         ha='right', va='bottom', transform=ax.transAxes,\n",
    "         bbox=dict(ec='w', fc='w'), fontsize=16)\n",
    "\n",
    "plt.title('Photo-z: Nearest Neigbor Regression')\n",
    "plt.xlabel(r'$\\mathrm{z_{spec}}$', fontsize=14)\n",
    "plt.ylabel(r'$\\mathrm{z_{phot}}$', fontsize=14)\n",
    "plt.show()"
   ]
  },
  {
   "cell_type": "code",
   "execution_count": null,
   "metadata": {
    "collapsed": true
   },
   "outputs": [],
   "source": []
  }
 ],
 "metadata": {
  "kernelspec": {
   "display_name": "Python 3",
   "language": "python",
   "name": "python3"
  },
  "language_info": {
   "codemirror_mode": {
    "name": "ipython",
    "version": 3
   },
   "file_extension": ".py",
   "mimetype": "text/x-python",
   "name": "python",
   "nbconvert_exporter": "python",
   "pygments_lexer": "ipython3",
   "version": "3.5.1"
  },
  "widgets": {
   "state": {},
   "version": "1.1.1"
  }
 },
 "nbformat": 4,
 "nbformat_minor": 0
}
