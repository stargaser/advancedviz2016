{
 "cells": [
  {
   "cell_type": "markdown",
   "metadata": {},
   "source": [
    "# Data apps"
   ]
  },
  {
   "cell_type": "markdown",
   "metadata": {},
   "source": [
    "Much of the motivation for this section came from the experience of making data apps in R on the Shiny platform.\n",
    "\n",
    "A simple app for querying the WISE catalog and displaying sources is [this one](https://stargaser.shinyapps.io/queryWise/) I wrote on a Sunday afternoon for a data science class.\n",
    "\n",
    "A sophisticated Shiny app is [this one](https://cosmostatisticsinitiative.shinyapps.io/CosmoPhotoz/) for photometric redshift estimation using generalized linear models."
   ]
  },
  {
   "cell_type": "markdown",
   "metadata": {},
   "source": [
    "## How to make apps in Python?"
   ]
  },
  {
   "cell_type": "markdown",
   "metadata": {},
   "source": [
    "Unfortunately, for *publishing* data apps, there is not a Python equivalent to Shiny, that makes it easy to host apps and is free of charge. This [blog post](http://blog.dominodatalab.com/interactive-dashboards-in-jupyter/) shows an example from a commercial enterprise."
   ]
  },
  {
   "cell_type": "markdown",
   "metadata": {},
   "source": [
    "For now, we will skip the publishing aspect and focus on making a personal app that you run yourself in the notebook (or can give to colleagues to run). "
   ]
  },
  {
   "cell_type": "markdown",
   "metadata": {},
   "source": [
    "## Bokeh widgets"
   ]
  },
  {
   "cell_type": "markdown",
   "metadata": {},
   "source": [
    "Adding Widgets\n",
    "\n",
    "Bokeh provides a simple default set of widgets, largely based off the Bootstrap JavaScript library. In the future, it will be possible for users to wrap and use other widget libraries, or their own custom widgets. By themselves, most widgets are not useful. There are two ways to use widgets to drive interactions:\n",
    "\n",
    "* Use the CustomJS callback. This will work in static HTML documents.\n",
    "* Use the bokeh-server and set up event handlers with .on_change.\n",
    "\n",
    "The current value of interactive widgets is available from the .value attribute."
   ]
  },
  {
   "cell_type": "code",
   "execution_count": null,
   "metadata": {
    "collapsed": true
   },
   "outputs": [],
   "source": [
    "from bokeh.io import vform\n",
    "from bokeh.models import CustomJS, ColumnDataSource, Slider\n",
    "from bokeh.plotting import Figure, output_file, show\n",
    "\n",
    "output_file(\"callback.html\")\n",
    "\n",
    "x = [x*0.005 for x in range(0, 200)]\n",
    "y = x\n",
    "\n",
    "source = ColumnDataSource(data=dict(x=x, y=y))\n",
    "\n",
    "plot = Figure(plot_width=400, plot_height=400)\n",
    "plot.line('x', 'y', source=source, line_width=3, line_alpha=0.6)\n",
    "\n",
    "callback = CustomJS(args=dict(source=source), code=\"\"\"\n",
    "        var data = source.get('data');\n",
    "        var f = cb_obj.get('value')\n",
    "        x = data['x']\n",
    "        y = data['y']\n",
    "        for (i = 0; i < x.length; i++) {\n",
    "            y[i] = Math.pow(x[i], f)\n",
    "        }\n",
    "        source.trigger('change');\n",
    "    \"\"\")\n",
    "\n",
    "slider = Slider(start=0.1, end=4, value=1, step=.1, title=\"power\", callback=callback)\n",
    "\n",
    "layout = vform(slider, plot)\n",
    "\n",
    "show(layout)"
   ]
  },
  {
   "cell_type": "markdown",
   "metadata": {},
   "source": [
    "The next cell shows the start of how to set up something like the WISE app."
   ]
  },
  {
   "cell_type": "code",
   "execution_count": null,
   "metadata": {
    "collapsed": false
   },
   "outputs": [],
   "source": [
    "from bokeh.models.widgets import Slider, RadioGroup, Button\n",
    "from bokeh.io import output_file, show, vform\n",
    "from bokeh.plotting import figure\n",
    "\n",
    "output_file(\"queryWise.html\")\n",
    "\n",
    "\n",
    "\n",
    "band = RadioGroup(labels=[\"3.5 microns\", \"4.5 microns\",\n",
    "                          \"12 microns\", \"22 microns\"], active=0)\n",
    "\n",
    "fov = Slider(start=5, end=15, value=5, step=.25, title=\"Field of View (arcmin)\")\n",
    "ra = Slider(start=0, end=359, value=120, step=1, title=\"Right Ascension (degrees)\")\n",
    "dec = Slider(start=-90, end=90, value=0, step=1, title=\"Declination (degrees)\")\n",
    "button = Button(label=\"Submit\")\n",
    "\n",
    "p = figure(plot_width=400, plot_height=400,\n",
    "           tools=\"tap\", title=\"WISE sources\")\n",
    "\n",
    "p.circle(ra.value, dec.value)\n",
    "show(vform(fov,band,ra,dec,button, p))\n"
   ]
  },
  {
   "cell_type": "markdown",
   "metadata": {},
   "source": [
    "# The rest of the notebook is not currently working"
   ]
  },
  {
   "cell_type": "markdown",
   "metadata": {},
   "source": [
    "## An attempt at a simple app"
   ]
  },
  {
   "cell_type": "markdown",
   "metadata": {},
   "source": [
    "Since the slider does not display...there is some problem with my installation for using widgets in the notebook."
   ]
  },
  {
   "cell_type": "code",
   "execution_count": null,
   "metadata": {
    "collapsed": true
   },
   "outputs": [],
   "source": [
    "from ipywidgets import *"
   ]
  },
  {
   "cell_type": "code",
   "execution_count": null,
   "metadata": {
    "collapsed": true
   },
   "outputs": [],
   "source": [
    "from IPython.display import display\n",
    "fov = FloatSlider(value = 5.0,\n",
    "                 min = 5.0,\n",
    "                 max = 15.0,\n",
    "                 step = 0.25)\n",
    "display(fov)"
   ]
  },
  {
   "cell_type": "markdown",
   "metadata": {},
   "source": [
    "## Example from the blog post"
   ]
  },
  {
   "cell_type": "code",
   "execution_count": null,
   "metadata": {
    "collapsed": false
   },
   "outputs": [],
   "source": [
    "%matplotlib notebook\n",
    "import pandas as pd \n",
    "import matplotlib.pyplot as plt \n",
    "from ipywidgets import * \n",
    "from IPython.display import display \n",
    "##from jnotebook import display\n",
    "from IPython.html import widgets \n",
    "plt.style.use('ggplot')\n",
    "\n",
    "NUMBER_OF_PINGS = 4\n",
    "\n",
    "#displaying the text widget\n",
    "text = widgets.Text(description=\"Domain to ping\", width=200) \n",
    "display(text)\n",
    "\n",
    "#preparing the plot\n",
    "data = pd.DataFrame() \n",
    "x = range(1,NUMBER_OF_PINGS+1) \n",
    "plots = dict() \n",
    "fig, ax = plt.subplots() \n",
    "plt.xlabel('iterations') \n",
    "plt.ylabel('ms') \n",
    "plt.xticks(x) \n",
    "plt.show()\n",
    "\n",
    "#preparing a container to put in created checkbox per domain\n",
    "checkboxes = [] \n",
    "cb_container = widgets.HBox() \n",
    "display(cb_container)\n",
    "\n",
    "#add button that updates the graph based on the checkboxes\n",
    "button = widgets.Button(description=\"Update the graph\")\n",
    "\n",
    "#function to deal with the added domain name\n",
    "def handle_submit(sender): \n",
    "    #a part of the magic inside python : pinging\n",
    "    res = !ping -c {NUMBER_OF_PINGS} {text.value}\n",
    "    hits = res.grep('64 bytes').fields(-2).s.replace(\"time=\",\"\").split()\n",
    "    if len(hits) == 0:\n",
    "        print(\"Domain gave error on pinging\")\n",
    "    else:\n",
    "        #rebuild plot based on ping result\n",
    "        data[text.value] = hits\n",
    "        data[text.value] = data[text.value].astype(float)\n",
    "        plots[text.value], = ax.plot(x, data[text.value], label=text.value)\n",
    "        plt.legend()\n",
    "        plt.draw()\n",
    "        #add a new checkbox for the new domain\n",
    "        checkboxes.append(widgets.Checkbox(description = text.value, value=True, width=90))\n",
    "        cb_container.children=[i for i in checkboxes]\n",
    "        if len(checkboxes) == 1:\n",
    "            display(button)\n",
    "\n",
    "#function to deal with the checkbox update button     \n",
    "def on_button_clicked(b): \n",
    "    for c in cb_container.children:\n",
    "        if not c.value:\n",
    "            plots[c.description].set_visible(False)\n",
    "        else:\n",
    "            plots[c.description].set_visible(True)\n",
    "    plt.legend()\n",
    "    plt.draw()\n",
    "\n",
    "button.on_click(on_button_clicked) \n",
    "text.on_submit(handle_submit) \n",
    "plt.show()\n"
   ]
  },
  {
   "cell_type": "code",
   "execution_count": null,
   "metadata": {
    "collapsed": true
   },
   "outputs": [],
   "source": []
  }
 ],
 "metadata": {
  "kernelspec": {
   "display_name": "Python 3",
   "language": "python",
   "name": "python3"
  },
  "language_info": {
   "codemirror_mode": {
    "name": "ipython",
    "version": 3
   },
   "file_extension": ".py",
   "mimetype": "text/x-python",
   "name": "python",
   "nbconvert_exporter": "python",
   "pygments_lexer": "ipython3",
   "version": "3.5.1"
  },
  "widgets": {
   "state": {},
   "version": "1.1.1"
  }
 },
 "nbformat": 4,
 "nbformat_minor": 0
}
